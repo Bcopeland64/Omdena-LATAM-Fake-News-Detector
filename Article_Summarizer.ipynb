{
  "nbformat": 4,
  "nbformat_minor": 0,
  "metadata": {
    "colab": {
      "name": "Article_Summarizer.ipynb",
      "provenance": []
    },
    "kernelspec": {
      "name": "python3",
      "display_name": "Python 3"
    },
    "language_info": {
      "name": "python"
    }
  },
  "cells": [
    {
      "cell_type": "code",
      "execution_count": 1,
      "metadata": {
        "colab": {
          "base_uri": "https://localhost:8080/"
        },
        "id": "Hay4MBkPYUd2",
        "outputId": "27ff1227-3db4-4ea4-872a-87036db2fee9"
      },
      "outputs": [
        {
          "output_type": "stream",
          "name": "stdout",
          "text": [
            "Requirement already satisfied: nltk in /usr/local/lib/python3.7/dist-packages (3.2.5)\n",
            "Requirement already satisfied: six in /usr/local/lib/python3.7/dist-packages (from nltk) (1.15.0)\n",
            "Collecting newspaper3k\n",
            "  Downloading newspaper3k-0.2.8-py3-none-any.whl (211 kB)\n",
            "\u001b[K     |████████████████████████████████| 211 kB 5.3 MB/s \n",
            "\u001b[?25hCollecting cssselect>=0.9.2\n",
            "  Downloading cssselect-1.1.0-py2.py3-none-any.whl (16 kB)\n",
            "Requirement already satisfied: lxml>=3.6.0 in /usr/local/lib/python3.7/dist-packages (from newspaper3k) (4.2.6)\n",
            "Requirement already satisfied: Pillow>=3.3.0 in /usr/local/lib/python3.7/dist-packages (from newspaper3k) (7.1.2)\n",
            "Collecting tinysegmenter==0.3\n",
            "  Downloading tinysegmenter-0.3.tar.gz (16 kB)\n",
            "Requirement already satisfied: requests>=2.10.0 in /usr/local/lib/python3.7/dist-packages (from newspaper3k) (2.23.0)\n",
            "Collecting jieba3k>=0.35.1\n",
            "  Downloading jieba3k-0.35.1.zip (7.4 MB)\n",
            "\u001b[K     |████████████████████████████████| 7.4 MB 36.1 MB/s \n",
            "\u001b[?25hCollecting tldextract>=2.0.1\n",
            "  Downloading tldextract-3.1.2-py2.py3-none-any.whl (87 kB)\n",
            "\u001b[K     |████████████████████████████████| 87 kB 5.3 MB/s \n",
            "\u001b[?25hRequirement already satisfied: python-dateutil>=2.5.3 in /usr/local/lib/python3.7/dist-packages (from newspaper3k) (2.8.2)\n",
            "Requirement already satisfied: PyYAML>=3.11 in /usr/local/lib/python3.7/dist-packages (from newspaper3k) (3.13)\n",
            "Collecting feedfinder2>=0.0.4\n",
            "  Downloading feedfinder2-0.0.4.tar.gz (3.3 kB)\n",
            "Requirement already satisfied: nltk>=3.2.1 in /usr/local/lib/python3.7/dist-packages (from newspaper3k) (3.2.5)\n",
            "Collecting feedparser>=5.2.1\n",
            "  Downloading feedparser-6.0.8-py3-none-any.whl (81 kB)\n",
            "\u001b[K     |████████████████████████████████| 81 kB 8.5 MB/s \n",
            "\u001b[?25hRequirement already satisfied: beautifulsoup4>=4.4.1 in /usr/local/lib/python3.7/dist-packages (from newspaper3k) (4.6.3)\n",
            "Requirement already satisfied: six in /usr/local/lib/python3.7/dist-packages (from feedfinder2>=0.0.4->newspaper3k) (1.15.0)\n",
            "Collecting sgmllib3k\n",
            "  Downloading sgmllib3k-1.0.0.tar.gz (5.8 kB)\n",
            "Requirement already satisfied: idna<3,>=2.5 in /usr/local/lib/python3.7/dist-packages (from requests>=2.10.0->newspaper3k) (2.10)\n",
            "Requirement already satisfied: urllib3!=1.25.0,!=1.25.1,<1.26,>=1.21.1 in /usr/local/lib/python3.7/dist-packages (from requests>=2.10.0->newspaper3k) (1.24.3)\n",
            "Requirement already satisfied: chardet<4,>=3.0.2 in /usr/local/lib/python3.7/dist-packages (from requests>=2.10.0->newspaper3k) (3.0.4)\n",
            "Requirement already satisfied: certifi>=2017.4.17 in /usr/local/lib/python3.7/dist-packages (from requests>=2.10.0->newspaper3k) (2021.10.8)\n",
            "Collecting requests-file>=1.4\n",
            "  Downloading requests_file-1.5.1-py2.py3-none-any.whl (3.7 kB)\n",
            "Requirement already satisfied: filelock>=3.0.8 in /usr/local/lib/python3.7/dist-packages (from tldextract>=2.0.1->newspaper3k) (3.4.2)\n",
            "Building wheels for collected packages: tinysegmenter, feedfinder2, jieba3k, sgmllib3k\n",
            "  Building wheel for tinysegmenter (setup.py) ... \u001b[?25l\u001b[?25hdone\n",
            "  Created wheel for tinysegmenter: filename=tinysegmenter-0.3-py3-none-any.whl size=13553 sha256=a5f96e6b637999e53f601a60f919b3b10dd05670ca716a22d46d1bceb2ac5cfb\n",
            "  Stored in directory: /root/.cache/pip/wheels/df/67/41/faca10fa501ca010be41b49d40360c2959e1c4f09bcbfa37fa\n",
            "  Building wheel for feedfinder2 (setup.py) ... \u001b[?25l\u001b[?25hdone\n",
            "  Created wheel for feedfinder2: filename=feedfinder2-0.0.4-py3-none-any.whl size=3357 sha256=75f2194935286715a2c27261e46efda9b1bdeb4002411350ec44756084ff4fb2\n",
            "  Stored in directory: /root/.cache/pip/wheels/7f/d4/8f/6e2ca54744c9d7292d88ddb8d42876bcdab5e6d84a21c10346\n",
            "  Building wheel for jieba3k (setup.py) ... \u001b[?25l\u001b[?25hdone\n",
            "  Created wheel for jieba3k: filename=jieba3k-0.35.1-py3-none-any.whl size=7398404 sha256=7fe4c40af798a5a321a1a1ffe2ca03a9649e71b9d958aedb84a20d5a60e01036\n",
            "  Stored in directory: /root/.cache/pip/wheels/4c/91/46/3c208287b726df325a5979574324878b679116e4baae1af3c3\n",
            "  Building wheel for sgmllib3k (setup.py) ... \u001b[?25l\u001b[?25hdone\n",
            "  Created wheel for sgmllib3k: filename=sgmllib3k-1.0.0-py3-none-any.whl size=6066 sha256=b13f301de908229a605a240a846f5aad46622c2add2f8aadc94ac37c22a7655e\n",
            "  Stored in directory: /root/.cache/pip/wheels/73/ad/a4/0dff4a6ef231fc0dfa12ffbac2a36cebfdddfe059f50e019aa\n",
            "Successfully built tinysegmenter feedfinder2 jieba3k sgmllib3k\n",
            "Installing collected packages: sgmllib3k, requests-file, tldextract, tinysegmenter, jieba3k, feedparser, feedfinder2, cssselect, newspaper3k\n",
            "Successfully installed cssselect-1.1.0 feedfinder2-0.0.4 feedparser-6.0.8 jieba3k-0.35.1 newspaper3k-0.2.8 requests-file-1.5.1 sgmllib3k-1.0.0 tinysegmenter-0.3 tldextract-3.1.2\n"
          ]
        }
      ],
      "source": [
        "!pip install nltk\n",
        "!pip install newspaper3k"
      ]
    },
    {
      "cell_type": "code",
      "source": [
        "import nltk\n",
        "from newspaper import Article "
      ],
      "metadata": {
        "id": "EsBfDu6bZB3s"
      },
      "execution_count": 2,
      "outputs": []
    },
    {
      "cell_type": "code",
      "source": [
        "url = 'https://www.elheraldo.co/politica/barranquilla-tendra-21374-jurados-en-mesas-de-votacion-886524'\n",
        "article = Article(url)"
      ],
      "metadata": {
        "id": "9LMZvglZZYlL"
      },
      "execution_count": 3,
      "outputs": []
    },
    {
      "cell_type": "code",
      "source": [
        "article.download()\n",
        "article.parse()\n",
        "nltk.download('punkt')\n",
        "article.nlp()"
      ],
      "metadata": {
        "colab": {
          "base_uri": "https://localhost:8080/"
        },
        "id": "t_eEoieTaJCJ",
        "outputId": "c6252e2b-e607-42d9-bfbd-720a893610b0"
      },
      "execution_count": 4,
      "outputs": [
        {
          "output_type": "stream",
          "name": "stdout",
          "text": [
            "[nltk_data] Downloading package punkt to /root/nltk_data...\n",
            "[nltk_data]   Unzipping tokenizers/punkt.zip.\n"
          ]
        }
      ]
    },
    {
      "cell_type": "code",
      "source": [
        "article.authors"
      ],
      "metadata": {
        "colab": {
          "base_uri": "https://localhost:8080/"
        },
        "id": "qJKeI7Nmamt8",
        "outputId": "6f36c992-3b05-4676-9a56-b87b6aef8202"
      },
      "execution_count": 5,
      "outputs": [
        {
          "output_type": "execute_result",
          "data": {
            "text/plain": [
              "['El Heraldo']"
            ]
          },
          "metadata": {},
          "execution_count": 5
        }
      ]
    },
    {
      "cell_type": "code",
      "source": [
        "date = article.publish_date"
      ],
      "metadata": {
        "id": "9syy62WHawgU"
      },
      "execution_count": 8,
      "outputs": []
    },
    {
      "cell_type": "code",
      "source": [
        "print(date)"
      ],
      "metadata": {
        "colab": {
          "base_uri": "https://localhost:8080/"
        },
        "id": "G-ku-NtkbF84",
        "outputId": "416cdd3e-6bf2-4131-dad2-b9b280165799"
      },
      "execution_count": 9,
      "outputs": [
        {
          "output_type": "stream",
          "name": "stdout",
          "text": [
            "None\n"
          ]
        }
      ]
    },
    {
      "cell_type": "code",
      "source": [
        "article.top_image"
      ],
      "metadata": {
        "colab": {
          "base_uri": "https://localhost:8080/",
          "height": 35
        },
        "id": "UZLpUGDUbQ53",
        "outputId": "66c9b1ff-2d23-4697-a236-2ee7a1e930f5"
      },
      "execution_count": 10,
      "outputs": [
        {
          "output_type": "execute_result",
          "data": {
            "application/vnd.google.colaboratory.intrinsic+json": {
              "type": "string"
            },
            "text/plain": [
              "'https://www.elheraldo.co/sites/default/files/articulo/2022/02/09/8a.jpeg'"
            ]
          },
          "metadata": {},
          "execution_count": 10
        }
      ]
    },
    {
      "cell_type": "code",
      "source": [
        "print(article.text)"
      ],
      "metadata": {
        "colab": {
          "base_uri": "https://localhost:8080/"
        },
        "id": "GUl2nUtebb4v",
        "outputId": "a5f33de4-5aff-40a0-ed52-ffd55d436c1c"
      },
      "execution_count": 11,
      "outputs": [
        {
          "output_type": "stream",
          "name": "stdout",
          "text": [
            "Este miércoles los registradores especiales de Barranquilla designaron 21.374 jurados de votación, entre 19.386 titulares y 1988 remanentes de cara a las elecciones legislativas del próximo 13 de marzo.\n",
            "\n",
            "La oficialización de los servidores se realizó en el marco del sorteo de jurados de votación para las próximas elecciones al Congreso de la República, el cual tuvo lugar el día de ayer en la capital del Atlántico.\n",
            "\n",
            "El evento contó con la presencia del personero, Miguel Ángel Alzate; la secretaria de Gobierno, Jeniffer Villarreal; los registradores especiales y también algunos representantes de la sociedad civil y de los partidos políticos que participarán en la contienda.\n"
          ]
        }
      ]
    },
    {
      "cell_type": "code",
      "source": [
        ""
      ],
      "metadata": {
        "id": "nfImEqrybsPJ"
      },
      "execution_count": null,
      "outputs": []
    },
    {
      "cell_type": "code",
      "source": [
        "print(article.summary)"
      ],
      "metadata": {
        "colab": {
          "base_uri": "https://localhost:8080/"
        },
        "id": "CclpUfhJb9fp",
        "outputId": "043da0e2-bf8a-46fc-dd56-79ace77c1a32"
      },
      "execution_count": 12,
      "outputs": [
        {
          "output_type": "stream",
          "name": "stdout",
          "text": [
            "Este miércoles los registradores especiales de Barranquilla designaron 21.374 jurados de votación, entre 19.386 titulares y 1988 remanentes de cara a las elecciones legislativas del próximo 13 de marzo.\n",
            "La oficialización de los servidores se realizó en el marco del sorteo de jurados de votación para las próximas elecciones al Congreso de la República, el cual tuvo lugar el día de ayer en la capital del Atlántico.\n",
            "El evento contó con la presencia del personero, Miguel Ángel Alzate; la secretaria de Gobierno, Jeniffer Villarreal; los registradores especiales y también algunos representantes de la sociedad civil y de los partidos políticos que participarán en la contienda.\n"
          ]
        }
      ]
    },
    {
      "cell_type": "code",
      "source": [
        "def get_article(url):\n",
        "  article = Article(url)\n",
        "  article.download()\n",
        "  article.parse()\n",
        "  article.nlp()\n",
        "  article.authors\n",
        "  article.publish_date\n",
        "  print(article.text)\n",
        " \n",
        "\n",
        "\n"
      ],
      "metadata": {
        "id": "rYe6jVa9cCQ4"
      },
      "execution_count": 20,
      "outputs": []
    },
    {
      "cell_type": "code",
      "source": [
        "get_article('https://www.elheraldo.co/politica/miguel-angel-pinto-anuncia-acciones-legales-en-contra-de-ingrid-betancourt-886902')"
      ],
      "metadata": {
        "colab": {
          "base_uri": "https://localhost:8080/"
        },
        "id": "YHZGZR5ydtf3",
        "outputId": "99612633-e6fc-4c32-80c7-faf260a1513d"
      },
      "execution_count": 22,
      "outputs": [
        {
          "output_type": "stream",
          "name": "stdout",
          "text": [
            "Un nuevo capítulo en la discusión entre Íngrid Betancourt y Alejandro Gaviria está próximo a abrirse, luego que el senador Miguel Ángel Pinto anunciara que interpondrá una denuncia en contra de la candidata presidencial por el partido Verde Oxígeno.\n",
            "\n",
            "“He dado poder a Jorge Perdomo para instaurar denuncia penal contra Ingrid Betancourt Palacios por el delito de calumnia. Mi vida política la he hecho a pulso y con toda transparencia”, escribió el senador en su cuenta de Twitter.\n",
            "\n",
            "Los hechos se remontan al apoyo que Pinto, del Partido Liberal, dio a la candidatura de Alejandro Gaviria de la coalición Centro Esperanza. Esa ‘jugada política’ no le gustó a la excongresista quien señaló que Gaviria estaba “dejando entrar a maquinarias que llevan a la corrupción” y de inmediato colocó un ultimátum - que terminó cumpliendo- de salirse de la consulta de centro, si Gaviria no renunciaba a los apoyos recibidos.\n"
          ]
        }
      ]
    },
    {
      "cell_type": "code",
      "source": [
        "get_article('https://www.elnuevosiglo.com.co/articulos/02-11-2022-alcaldes-no-deben-ser-implicados-en-debates-politicos-asocapitales')"
      ],
      "metadata": {
        "colab": {
          "base_uri": "https://localhost:8080/"
        },
        "id": "XoFQ0j2bd2Cm",
        "outputId": "1184b15b-62b5-438c-ffca-865b9dfe0bf7"
      },
      "execution_count": 19,
      "outputs": [
        {
          "output_type": "stream",
          "name": "stdout",
          "text": [
            "https://www.elnuevosiglo.com.co/articulos/02-11-2022-alcaldes-no-deben-ser-implicados-en-debates-politicos-asocapitaleshttps://www.elnuevosiglo.com.co/articulos/02-11-2022-alcaldes-no-deben-ser-implicados-en-debates-politicos-asocapitales\n",
            "La Asociación Colombiana de Ciudades Capitales rechazó las últimas declaraciones del candidato presidencial del Centro Democrático, Óscar Iván Zuluaga, al referirse que \"mandaría a la mierda\" al alcalde de Cali, Jorge Iván Ospina.\n",
            "\n",
            "Estas declaraciones de Zuluaga se filtraron a través de un audio en redes sociales, donde se escucha al candidato referirse a la gestión del alcalde de Cali en cuanto al manejo de las situaciones de orden público en la ciudad.\n",
            "\n",
            "Asocapitales calificó dichas palabras como desafortunadas en el marco del actual proceso político colombiano. Asimismo, indicó a los demás candidatos a desarrollar una campaña una campaña basada en ideas y propuestas e instó a respetar a los mandatarios elegidos popularmente.\n",
            "\n",
            "\"La democracia se ve afectada cuando se desconoce a los mandatarios que fueron elegidos democrática y legítimamente para conducir los destinos de las ciudades capitales\", indicaron en el comunicado.\n",
            "\n",
            "Le puede interesar: Colombia sede Iberoamericana de Conferencia de Justicia\n",
            "\n",
            "En vísperas de las elecciones presidenciales, Asocapitales aprovechó para invitar a que se fomente el diálogo, el pluralismo para seguir avanzando en la construcción de la paz en medio de la diversidad.\n",
            "\n",
            "\"Esto solo se logra si se respetan las ideas del otro, se reconocen las múltiples realidades a las que se enfrentan las regiones del país y se atiende el valor de la participación ciudadana\", indicó la asociación.\n",
            "\n",
            "Por su parte, el alcalde de Cali,Jorge Iván Ospina, se pronunció en indicó que ese no es el lenguaje que debería tener un candidato. “¿Es ese el lenguaje que se debe adelantar en campaña Presidencial con un alcalde y su ciudadanía? ¿Sabe usted que el lenguaje violento lleva a la violencia? Estas palabras contra un alcalde desdice de la manera como debe adelantarse una campaña política”, cuestionó Ospina.\n"
          ]
        }
      ]
    },
    {
      "cell_type": "code",
      "source": [
        ""
      ],
      "metadata": {
        "id": "uByz1HKkeSHu"
      },
      "execution_count": null,
      "outputs": []
    }
  ]
}