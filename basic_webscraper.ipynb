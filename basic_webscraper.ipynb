{
  "nbformat": 4,
  "nbformat_minor": 0,
  "metadata": {
    "colab": {
      "name": "webscraper.ipynb",
      "provenance": [],
      "collapsed_sections": []
    },
    "kernelspec": {
      "name": "python3",
      "display_name": "Python 3"
    },
    "language_info": {
      "name": "python"
    }
  },
  "cells": [
    {
      "cell_type": "code",
      "source": [
        "\n",
        "!pip install bs4\n",
        "!pip install requests"
      ],
      "metadata": {
        "colab": {
          "base_uri": "https://localhost:8080/"
        },
        "id": "0h_yA-JqyI6J",
        "outputId": "df1cb95e-d847-4206-a877-2bb855cfb410"
      },
      "execution_count": 2,
      "outputs": [
        {
          "output_type": "stream",
          "name": "stdout",
          "text": [
            "Requirement already satisfied: bs4 in /usr/local/lib/python3.7/dist-packages (0.0.1)\n",
            "Requirement already satisfied: beautifulsoup4 in /usr/local/lib/python3.7/dist-packages (from bs4) (4.6.3)\n",
            "Traceback (most recent call last):\n",
            "  File \"/usr/local/bin/pip3\", line 5, in <module>\n",
            "    from pip._internal.cli.main import main\n",
            "  File \"/usr/local/lib/python3.7/dist-packages/pip/_internal/cli/main.py\", line 9, in <module>\n",
            "    from pip._internal.cli.autocompletion import autocomplete\n",
            "  File \"/usr/local/lib/python3.7/dist-packages/pip/_internal/cli/autocompletion.py\", line 10, in <module>\n",
            "  File \"/usr/local/lib/python3.7/dist-packages/pip/_internal/cli/main_parser.py\", line 8, in <module>\n",
            "    from pip._internal.cli import cmdoptions\n",
            "  File \"/usr/local/lib/python3.7/dist-packages/pip/_internal/cli/cmdoptions.py\", line 23, in <module>\n",
            "    from pip._internal.cli.parser import ConfigOptionParser\n",
            "  File \"/usr/local/lib/python3.7/dist-packages/pip/_internal/cli/parser.py\", line 12, in <module>\n",
            "    from pip._internal.configuration import Configuration, ConfigurationError\n",
            "  File \"/usr/local/lib/python3.7/dist-packages/pip/_internal/configuration.py\", line 21, in <module>\n",
            "    from pip._internal.exceptions import (\n",
            "  File \"/usr/local/lib/python3.7/dist-packages/pip/_internal/exceptions.py\", line 7, in <module>\n",
            "    from pip._vendor.pkg_resources import Distribution\n",
            "  File \"/usr/local/lib/python3.7/dist-packages/pip/_vendor/pkg_resources/__init__.py\", line 36, in <module>\n",
            "    import email.parser\n",
            "  File \"/usr/lib/python3.7/email/parser.py\", line 12, in <module>\n",
            "    from email.feedparser import FeedParser, BytesFeedParser\n",
            "  File \"/usr/lib/python3.7/email/feedparser.py\", line 27, in <module>\n",
            "    from email._policybase import compat32\n",
            "  File \"/usr/lib/python3.7/email/_policybase.py\", line 9, in <module>\n",
            "    from email.utils import _has_surrogates\n",
            "  File \"/usr/lib/python3.7/email/utils.py\", line 29, in <module>\n",
            "    import socket\n",
            "  File \"<frozen importlib._bootstrap>\", line 980, in _find_and_load\n",
            "  File \"<frozen importlib._bootstrap>\", line 149, in __enter__\n",
            "  File \"<frozen importlib._bootstrap>\", line 86, in acquire\n",
            "KeyboardInterrupt\n"
          ]
        }
      ]
    },
    {
      "cell_type": "code",
      "source": [
        "import requests\n",
        "from bs4 import BeautifulSoup as soup"
      ],
      "metadata": {
        "id": "P5PLFY9tbQbq"
      },
      "execution_count": 5,
      "outputs": []
    },
    {
      "cell_type": "code",
      "source": [
        "def get_content_string(url):\n",
        "  page = requests.get(url)\n",
        "  page_soup = soup(page.content, 'html.parser')\n",
        "  # print(page_soup)\n",
        "\n",
        "  containers = [i.getText() for i in page_soup.find_all(class_ = 'post-box-title')]\n",
        "\n",
        "  articles = []\n",
        "  for container in containers:\n",
        "      articles.append(container)\n",
        "  print(articles)\n"
      ],
      "metadata": {
        "id": "9Lqj_DQbblYB"
      },
      "execution_count": 14,
      "outputs": []
    },
    {
      "cell_type": "code",
      "source": [
        "get_content_string('https://www.diariocolatino.com/')"
      ],
      "metadata": {
        "colab": {
          "base_uri": "https://localhost:8080/"
        },
        "id": "7dsSjLmjczhR",
        "outputId": "a9720416-2427-4530-d82e-832ae22cd7d6"
      },
      "execution_count": 15,
      "outputs": [
        {
          "output_type": "stream",
          "name": "stdout",
          "text": [
            "['Población educativa prefiere clases presenciales: ACPES', 'GOES debe tomar medidas ante alza de la gasolina', 'Cristosal pide investigar manejo de fondos en espionaje de telecomunicaciones', '“Por cada muerte reportada, 10 personas más estaban muriendo de COVID-19”: Eduardo Espinoza', 'Decretan detención a acusados de asesinar a enfermera y taxista', 'Organizaciones exigen cumplimiento de medidas cautelares a gobierno', 'Figueres y Chaves piden el voto para segunda vuelta en Costa Rica', 'Presidenta hondureña Xiomara Castro da positivo a COVID-19', 'Presidente llamó a los electores a unirse por Costa Rica', '¿Quién será el próximo presidente tico?, pues descartan continuidad', 'Costa Rica anuncia plan de adaptación sobre crisis climática', 'Presidente de Perú anuncia instalación de nuevo gabinete ministerial', 'Bogotá decreta alerta ambiental ante mala calidad del aire', 'Por Ahora, grito de esperanza y dignidad en Venezuela', 'Gobierno de Cuba exige el fin del bloqueo estadounidense contra esa nación', 'El inversor multimillonario Tim Draper se reunirá con líderes, inversionistas y emprendedores de América Latina', 'ONU alerta de persistente violencia que sufre el pueblo palestino', 'Más de 12 millones de niños en EEUU se contagian de COVID-19', 'EEUU insiste en retórica de amenazas a Rusia por Ucrania', 'Anuncios de supuesta invasión a Ucrania aumentan tensión, dice Rusia', 'Figueres y Chaves encabezan resultados provisionales de elección en Costa Rica', 'Reina olímpica jamaicana prestigiará circuito atlético en Torun', 'Mexicano Carrillo clasifica a sección libre en patinaje olímpico', 'Neymar cada vez más duda para el duelo PSG-Real Madrid', 'Federación Panamericana de Pesas confirma ruta hacia Santiago 2023', 'Vietnam aplaude a equipo femenino de fútbol, por clasificar a un Mundial', 'Eduin Caz negó estar involucrado en accidente vehicular', 'Diego Verdaguer pierde la batalla contra el COVID19', 'Festival Internacional Jazz Plaza desprende últimos acordes en Cuba', 'CHRISTINA AGUILERA ESTRENA «SANTO» SU NUEVO SENCILLO Y VIDEO JUNTO A LA SUPERESTRELLA DEL REGGAETÓN OZUNA', 'WISIN, CAMILO y LOS LEGENDARIOS presentan su primera colaboración juntos “BUENOS DÍAS”', 'OH MY GOD EL NUEVO VIDEO DE ADELE', 'Orquesta “Son Latino”', 'MUPI inaugura exposición en la UES en aniversario de “1932”', 'Lo indecible del dolor', 'Aquella historia nazi', 'RECUERDO DE DON LUIS GALLEGOS VALDÉS', 'LA LÁMPARA DE THOMSON Y LOS IRRACIONALES.', 'Volver a los 17', 'Cuando escuchas un ruido en la noche', 'Alexander Campos: un salvadoreño difusor de la cultura', 'Rinden homenaje a poeta Sagastizado por su premio “Mar de Cristal”', '“Con una persona que compre un libro me siento feliz”: Nelson Nuila', '“Los libros sensibilizan el alma”', 'Tai chi se incluye en lista de patrimonio cultural inmaterial de UNESCO', 'José Martí: un hombre de todos los tiempos', 'El principio-compasión. Ver la realidad desde las víctimas y sentirse afectado por ellas', 'JULIO CÉSAR GUZMÁN', '¿Café?… Sí, por favor', 'Ciudadanía y anti política', '“El último Golpe de Estado ya no es el del 15 de octubre de 1979” 15 de octubre de 1979-2021.', '36 años de la captura de comandante guerrillera y firmante de los Acuerdos de Paz, Nidia Díaz', 'El 24 de marzo de 1980 surgen las fuerzas armadas de Liberación FAL', 'Cerro de Guazapa: Homenaje a héroes y mártires', 'Raúl Padilla Vela, comunista salvadoreño (1932-2017) falleció en Canadá. La siguiente entrevista recoge rasgos de su vida y trayectoria', '¿Qué es Forex?: guía práctica para aprender a invertir en divisas sin salir de tu casa', 'El Salvador recibe a inversionistas europeos de criptomonedas en Planta Central Geotérmica', 'Caen reservas de divisas de China en septiembre', 'Cómo Prevenir la Inminente Crisis de Deuda Soberana', 'URGENTE: Economía de EEUU se contrae 4,8 % en primer trimestre en medio de impacto de COVID-19', '“La educación es un ornamento en la prosperidad y un refugio en la adversidad”', 'Este día es luto nacional', 'COVID-19 prevención, síntomas y tratamientos', 'Porqué aparecen las alergias', 'En el Día del Maestro', 'La inteligencia artificial impulsa un nuevo entretenimiento interactivo', 'Hard Rock Hotel Riviera Maya realizó la gran apertura del salón de juegos de realidad virtual HyperX', '¿Qué audífonos Gamer comprar este 2021?', 'Dow Jones: ¿Cómo invertir en la bolsa con este índice?', 'TUL ofrece100 nuevas plazas de trabajo en Latinoamérica']\n"
          ]
        }
      ]
    },
    {
      "cell_type": "code",
      "source": [
        ""
      ],
      "metadata": {
        "id": "E81NVdQbU6A1"
      },
      "execution_count": null,
      "outputs": []
    }
  ]
}