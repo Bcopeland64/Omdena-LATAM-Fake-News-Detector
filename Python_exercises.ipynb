{
  "cells": [
    {
      "cell_type": "markdown",
      "metadata": {
        "id": "yjVzGA12f422"
      },
      "source": [
        "![](../docs/banner.png)"
      ]
    },
    {
      "cell_type": "markdown",
      "metadata": {
        "id": "GsAFzhP_f426"
      },
      "source": [
        "# Python Basics\n",
        "\n"
      ]
    },
    {
      "cell_type": "markdown",
      "metadata": {
        "id": "FDFMCipQf427"
      },
      "source": [
        "## Exercises"
      ]
    },
    {
      "cell_type": "markdown",
      "metadata": {
        "id": "GUQjc8nmf427"
      },
      "source": [
        "### 1."
      ]
    },
    {
      "cell_type": "markdown",
      "metadata": {
        "id": "e36Ovx4Pf427"
      },
      "source": [
        "What is 5 to the power of 5?"
      ]
    },
    {
      "cell_type": "code",
      "execution_count": 1,
      "metadata": {
        "id": "LtSASIBRf428",
        "outputId": "519caacd-5756-4f83-d78b-87d2686bceb3",
        "colab": {
          "base_uri": "https://localhost:8080/"
        }
      },
      "outputs": [
        {
          "output_type": "execute_result",
          "data": {
            "text/plain": [
              "3125"
            ]
          },
          "metadata": {},
          "execution_count": 1
        }
      ],
      "source": [
        "5**5"
      ]
    },
    {
      "cell_type": "markdown",
      "metadata": {
        "id": "hljQCJrxf429"
      },
      "source": [
        "### 2."
      ]
    },
    {
      "cell_type": "markdown",
      "metadata": {
        "id": "aQLYvWOZf429"
      },
      "source": [
        "What is the remainder from dividing 73 by 6?"
      ]
    },
    {
      "cell_type": "code",
      "execution_count": 230,
      "metadata": {
        "id": "-M5HuOf2f42-",
        "outputId": "8915c937-a39f-49ad-f680-3e335b1e2c8f",
        "colab": {
          "base_uri": "https://localhost:8080/"
        }
      },
      "outputs": [
        {
          "output_type": "execute_result",
          "data": {
            "text/plain": [
              "1"
            ]
          },
          "metadata": {},
          "execution_count": 230
        }
      ],
      "source": [
        "73 % 6\n",
        "#The remainder is 1"
      ]
    },
    {
      "cell_type": "markdown",
      "metadata": {
        "id": "wFicAm2Af42-"
      },
      "source": [
        "### 3."
      ]
    },
    {
      "cell_type": "markdown",
      "metadata": {
        "id": "EbjfRTZZf42_"
      },
      "source": [
        "How many times does the whole number 3 go into 123? What is the remainder of dividing 123 by 3?"
      ]
    },
    {
      "cell_type": "code",
      "execution_count": 231,
      "metadata": {
        "id": "RN3pYjZqf42_",
        "outputId": "1544cca0-b017-4bdc-ce74-386fe95eaf32",
        "colab": {
          "base_uri": "https://localhost:8080/"
        }
      },
      "outputs": [
        {
          "output_type": "stream",
          "name": "stdout",
          "text": [
            "411\n",
            "1\n"
          ]
        }
      ],
      "source": [
        "print(1234 // 3)\n",
        "print(1234 % 3)"
      ]
    },
    {
      "cell_type": "markdown",
      "metadata": {
        "id": "Y61EC2LCf42_"
      },
      "source": [
        "### 4."
      ]
    },
    {
      "cell_type": "markdown",
      "metadata": {
        "id": "LGZByFo1f43A"
      },
      "source": [
        "Split the following string into a list by splitting on the space character:"
      ]
    },
    {
      "cell_type": "code",
      "execution_count": 5,
      "metadata": {
        "id": "DFmAgf2_f43A",
        "outputId": "e3e1470f-75e5-49b5-8021-ce9c953b335a",
        "colab": {
          "base_uri": "https://localhost:8080/"
        }
      },
      "outputs": [
        {
          "output_type": "execute_result",
          "data": {
            "text/plain": [
              "['MDS', 'is', 'going', 'virtual!']"
            ]
          },
          "metadata": {},
          "execution_count": 5
        }
      ],
      "source": [
        "s = \"MDS is going virtual!\"\n",
        "\n",
        "s.split()"
      ]
    },
    {
      "cell_type": "markdown",
      "metadata": {
        "id": "WR4O7FR6f43A"
      },
      "source": [
        "### 5."
      ]
    },
    {
      "cell_type": "markdown",
      "metadata": {
        "id": "t19KZnrsf43A"
      },
      "source": [
        "Given the following variables:\n",
        "\n",
        "```\n",
        "thing = \"light\"\n",
        "speed = 299792458  # m/s\n",
        "```\n",
        "\n",
        "Use f-strings to print:\n",
        "\n",
        "```\n",
        "The speed of light is 2.997925e+08 m/s.\n",
        "```"
      ]
    },
    {
      "cell_type": "code",
      "execution_count": 234,
      "metadata": {
        "id": "ClX0uNPAf43B",
        "outputId": "a4004f0f-a22d-4abd-c5d2-e2b5e0eaf66b",
        "colab": {
          "base_uri": "https://localhost:8080/"
        }
      },
      "outputs": [
        {
          "output_type": "stream",
          "name": "stdout",
          "text": [
            "The speed of light is 2.997925e+10 m/s\n"
          ]
        }
      ],
      "source": [
        "thing = \"light\"\n",
        "speed = 29979245808  # m/s\n",
        "print(f'The speed of {thing} is {speed:2e} m/s')"
      ]
    },
    {
      "cell_type": "markdown",
      "metadata": {
        "id": "PCWR9_q9f43B"
      },
      "source": [
        "### 6."
      ]
    },
    {
      "cell_type": "markdown",
      "metadata": {
        "id": "9Vs_pZCGf43B"
      },
      "source": [
        "Given this nested list, use indexing to grab the word \"MDS\":"
      ]
    },
    {
      "cell_type": "code",
      "execution_count": 235,
      "metadata": {
        "colab": {
          "base_uri": "https://localhost:8080/"
        },
        "id": "vdc4axuvf43B",
        "outputId": "2745f096-6d6b-43cd-ae78-a2d554c1d2cd"
      },
      "outputs": [
        {
          "output_type": "execute_result",
          "data": {
            "text/plain": [
              "['MDS']"
            ]
          },
          "metadata": {},
          "execution_count": 235
        }
      ],
      "source": [
        "l = [10, [3, 4], [5, [100, 200, [\"MDS\"]], 23, 11], 1, 7]\n",
        "l[2][1][2]"
      ]
    },
    {
      "cell_type": "markdown",
      "metadata": {
        "id": "0N9bS4lUf43C"
      },
      "source": [
        "### 7."
      ]
    },
    {
      "cell_type": "markdown",
      "metadata": {
        "id": "uqtj8X4if43C"
      },
      "source": [
        "Given this nest dictionary grab the word \"MDS\":"
      ]
    },
    {
      "cell_type": "code",
      "execution_count": 236,
      "metadata": {
        "id": "Z91hMFpJf43C",
        "outputId": "869f6679-0ae9-40c5-9409-353480f84131",
        "colab": {
          "base_uri": "https://localhost:8080/",
          "height": 35
        }
      },
      "outputs": [
        {
          "output_type": "execute_result",
          "data": {
            "application/vnd.google.colaboratory.intrinsic+json": {
              "type": "string"
            },
            "text/plain": [
              "'MDS'"
            ]
          },
          "metadata": {},
          "execution_count": 236
        }
      ],
      "source": [
        "d = {\n",
        "    \"outer\": [\n",
        "        1,\n",
        "        2,\n",
        "        3,\n",
        "        {\"inner\": [\"this\", \"is\", \"inception\", {\"inner_inner\": [1, 2, 3, \"MDS\"]}]},\n",
        "    ]\n",
        "}\n",
        "\n",
        "d[\"outer\"][3][\"inner\"][3][\"inner_inner\"][3]"
      ]
    },
    {
      "cell_type": "markdown",
      "metadata": {
        "id": "5VyNMcKAf43C"
      },
      "source": [
        "### 8."
      ]
    },
    {
      "cell_type": "markdown",
      "metadata": {
        "id": "2XU9auLIf43D"
      },
      "source": [
        "Why does the following cell return an error?"
      ]
    },
    {
      "cell_type": "code",
      "execution_count": 145,
      "metadata": {
        "tags": [
          "raises-exception"
        ],
        "id": "JPTjLnFuf43D",
        "outputId": "96504472-44af-45f1-e994-3eecb260c5da",
        "colab": {
          "base_uri": "https://localhost:8080/",
          "height": 217
        }
      },
      "outputs": [
        {
          "output_type": "error",
          "ename": "TypeError",
          "evalue": "ignored",
          "traceback": [
            "\u001b[0;31m---------------------------------------------------------------------------\u001b[0m",
            "\u001b[0;31mTypeError\u001b[0m                                 Traceback (most recent call last)",
            "\u001b[0;32m<ipython-input-145-e2d5fdf74744>\u001b[0m in \u001b[0;36m<module>\u001b[0;34m()\u001b[0m\n\u001b[1;32m      1\u001b[0m \u001b[0mt\u001b[0m \u001b[0;34m=\u001b[0m \u001b[0;34m(\u001b[0m\u001b[0;36m1\u001b[0m\u001b[0;34m,\u001b[0m \u001b[0;36m2\u001b[0m\u001b[0;34m,\u001b[0m \u001b[0;36m3\u001b[0m\u001b[0;34m,\u001b[0m \u001b[0;36m4\u001b[0m\u001b[0;34m,\u001b[0m \u001b[0;36m5\u001b[0m\u001b[0;34m)\u001b[0m\u001b[0;34m\u001b[0m\u001b[0;34m\u001b[0m\u001b[0m\n\u001b[0;32m----> 2\u001b[0;31m \u001b[0mt\u001b[0m\u001b[0;34m[\u001b[0m\u001b[0;34m-\u001b[0m\u001b[0;36m1\u001b[0m\u001b[0;34m]\u001b[0m \u001b[0;34m=\u001b[0m \u001b[0;36m6\u001b[0m\u001b[0;34m\u001b[0m\u001b[0;34m\u001b[0m\u001b[0m\n\u001b[0m\u001b[1;32m      3\u001b[0m \u001b[0;34m\u001b[0m\u001b[0m\n\u001b[1;32m      4\u001b[0m \u001b[0;31m#Because you can't assign an item to a tuple because it is immutable\u001b[0m\u001b[0;34m\u001b[0m\u001b[0;34m\u001b[0m\u001b[0;34m\u001b[0m\u001b[0m\n",
            "\u001b[0;31mTypeError\u001b[0m: 'tuple' object does not support item assignment"
          ]
        }
      ],
      "source": [
        "t = (1, 2, 3, 4, 5)\n",
        "t[-1] = 6\n",
        "\n",
        "#Because you can't assign an item to a tuple because it is immutable"
      ]
    },
    {
      "cell_type": "markdown",
      "metadata": {
        "id": "-ZfH6y1Tf43D"
      },
      "source": [
        "### 9."
      ]
    },
    {
      "cell_type": "markdown",
      "metadata": {
        "id": "cc4hxu6yf43E"
      },
      "source": [
        "Use string methods to extract the website domain from an email, e.g., from the string `\"tomas.beuzen@fakemail.com\"`, you should extract `\"fakemail\"`."
      ]
    },
    {
      "cell_type": "code",
      "execution_count": 157,
      "metadata": {
        "id": "ZxVV4Zzhf43E",
        "outputId": "5c0cf4d8-9234-4e8e-f328-69ffdcf9d6ef",
        "colab": {
          "base_uri": "https://localhost:8080/",
          "height": 35
        }
      },
      "outputs": [
        {
          "output_type": "execute_result",
          "data": {
            "application/vnd.google.colaboratory.intrinsic+json": {
              "type": "string"
            },
            "text/plain": [
              "'fakemail'"
            ]
          },
          "metadata": {},
          "execution_count": 157
        }
      ],
      "source": [
        "email = \"tomas.beuzen@fakemail.com\"\n",
        "\n",
        "email.strip(\"@\")[13:-4]"
      ]
    },
    {
      "cell_type": "markdown",
      "metadata": {
        "id": "wc_wu8jpf43E"
      },
      "source": [
        "### 10."
      ]
    },
    {
      "cell_type": "markdown",
      "metadata": {
        "id": "YyNG2bRef43E"
      },
      "source": [
        "Given the variable `language` which contains a string, use `if/elif/else` to write a program that:\n",
        "- return \"I love snakes!\" if `language` is `\"python\"` (any kind of capitalization)\n",
        "- return \"Are you a pirate?\" if `language` is `\"R\"` (any kind of capitalization)\n",
        "- else return \"What is `language`?\" if `language` is anything else."
      ]
    },
    {
      "cell_type": "code",
      "execution_count": 160,
      "metadata": {
        "id": "utNfl24Ff43E",
        "outputId": "a9288772-62d7-4d07-a294-81058a6e5304",
        "colab": {
          "base_uri": "https://localhost:8080/"
        }
      },
      "outputs": [
        {
          "output_type": "stream",
          "name": "stdout",
          "text": [
            "I love snakes!\n"
          ]
        }
      ],
      "source": [
        "language = \"python\"\n",
        "\n",
        "if language == 'python':\n",
        "  print(\"I love snakes!\")\n",
        "elif language == 'R':\n",
        "  print(\"Are you a pirate?\")\n",
        "else:\n",
        "  print(\"What is language\")"
      ]
    },
    {
      "cell_type": "markdown",
      "metadata": {
        "id": "Ie-9ufC9f43F"
      },
      "source": [
        "<hr>\n",
        "<hr>\n",
        "<hr>"
      ]
    }
  ],
  "metadata": {
    "kernelspec": {
      "display_name": "Python 3 (ipykernel)",
      "language": "python",
      "name": "python3"
    },
    "language_info": {
      "codemirror_mode": {
        "name": "ipython",
        "version": 3
      },
      "file_extension": ".py",
      "mimetype": "text/x-python",
      "name": "python",
      "nbconvert_exporter": "python",
      "pygments_lexer": "ipython3",
      "version": "3.9.7"
    },
    "colab": {
      "name": "Exercise-1 Basic Pythons.ipynb",
      "provenance": []
    }
  },
  "nbformat": 4,
  "nbformat_minor": 0
}